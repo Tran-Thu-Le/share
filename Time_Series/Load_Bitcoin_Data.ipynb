{
  "nbformat": 4,
  "nbformat_minor": 0,
  "metadata": {
    "colab": {
      "name": "Untitled32.ipynb",
      "provenance": [],
      "collapsed_sections": [],
      "authorship_tag": "ABX9TyMeUUqdl7qoIXbwmsoM1t3D",
      "include_colab_link": true
    },
    "kernelspec": {
      "name": "python3",
      "display_name": "Python 3"
    },
    "language_info": {
      "name": "python"
    }
  },
  "cells": [
    {
      "cell_type": "markdown",
      "metadata": {
        "id": "view-in-github",
        "colab_type": "text"
      },
      "source": [
        "<a href=\"https://colab.research.google.com/github/Tran-Thu-Le/share/blob/main/Time_Series/Load_Bitcoin_Data.ipynb\" target=\"_parent\"><img src=\"https://colab.research.google.com/assets/colab-badge.svg\" alt=\"Open In Colab\"/></a>"
      ]
    },
    {
      "cell_type": "markdown",
      "metadata": {
        "id": "yUNJyuMDxQF2"
      },
      "source": [
        "## Load Bitcoin data"
      ]
    },
    {
      "cell_type": "code",
      "metadata": {
        "colab": {
          "base_uri": "https://localhost:8080/",
          "height": 402
        },
        "id": "2bpOBtjskpo_",
        "outputId": "b3823eef-b9c4-4acc-fe16-b301136a9af4"
      },
      "source": [
        "import requests\n",
        "import pandas as pd\n",
        "\n",
        "def get_crypto_price(symbol, exchange, start_date = None):\n",
        "    api_key = 'YOUR API KEY'\n",
        "    api_url = f'https://www.alphavantage.co/query?function=DIGITAL_CURRENCY_DAILY&symbol={symbol}&market={exchange}&apikey={api_key}'\n",
        "    raw_df = requests.get(api_url).json()\n",
        "    df = pd.DataFrame(raw_df['Time Series (Digital Currency Daily)']).T\n",
        "    df = df.rename(columns = {'1a. open (USD)': 'open', '2a. high (USD)': 'high', '3a. low (USD)': 'low', '4a. close (USD)': 'close', '5. volume': 'volume'})\n",
        "    for i in df.columns:\n",
        "        df[i] = df[i].astype(float)\n",
        "    df.index = pd.to_datetime(df.index)\n",
        "    df = df.iloc[::-1].drop(['1b. open (USD)', '2b. high (USD)', '3b. low (USD)', '4b. close (USD)', '6. market cap (USD)'], axis = 1)\n",
        "    if start_date:\n",
        "        df = df[df.index >= start_date]\n",
        "    return df\n",
        "\n",
        "btc = get_crypto_price(symbol = 'BTC', exchange = 'USD', start_date = '2012-01-01')\n",
        "btc"
      ],
      "execution_count": 1,
      "outputs": [
        {
          "output_type": "execute_result",
          "data": {
            "text/html": [
              "<div>\n",
              "<style scoped>\n",
              "    .dataframe tbody tr th:only-of-type {\n",
              "        vertical-align: middle;\n",
              "    }\n",
              "\n",
              "    .dataframe tbody tr th {\n",
              "        vertical-align: top;\n",
              "    }\n",
              "\n",
              "    .dataframe thead th {\n",
              "        text-align: right;\n",
              "    }\n",
              "</style>\n",
              "<table border=\"1\" class=\"dataframe\">\n",
              "  <thead>\n",
              "    <tr style=\"text-align: right;\">\n",
              "      <th></th>\n",
              "      <th>open</th>\n",
              "      <th>high</th>\n",
              "      <th>low</th>\n",
              "      <th>close</th>\n",
              "      <th>volume</th>\n",
              "    </tr>\n",
              "  </thead>\n",
              "  <tbody>\n",
              "    <tr>\n",
              "      <th>2018-10-31</th>\n",
              "      <td>6330.01</td>\n",
              "      <td>6428.00</td>\n",
              "      <td>6245.02</td>\n",
              "      <td>6371.93</td>\n",
              "      <td>12148.888216</td>\n",
              "    </tr>\n",
              "    <tr>\n",
              "      <th>2018-11-01</th>\n",
              "      <td>6369.52</td>\n",
              "      <td>6442.65</td>\n",
              "      <td>6348.66</td>\n",
              "      <td>6410.00</td>\n",
              "      <td>9099.035841</td>\n",
              "    </tr>\n",
              "    <tr>\n",
              "      <th>2018-11-02</th>\n",
              "      <td>6410.00</td>\n",
              "      <td>6460.34</td>\n",
              "      <td>6388.20</td>\n",
              "      <td>6433.98</td>\n",
              "      <td>9739.440679</td>\n",
              "    </tr>\n",
              "    <tr>\n",
              "      <th>2018-11-03</th>\n",
              "      <td>6432.80</td>\n",
              "      <td>6439.97</td>\n",
              "      <td>6345.00</td>\n",
              "      <td>6387.09</td>\n",
              "      <td>7661.241476</td>\n",
              "    </tr>\n",
              "    <tr>\n",
              "      <th>2018-11-04</th>\n",
              "      <td>6388.00</td>\n",
              "      <td>6525.00</td>\n",
              "      <td>6359.00</td>\n",
              "      <td>6485.85</td>\n",
              "      <td>10592.394943</td>\n",
              "    </tr>\n",
              "    <tr>\n",
              "      <th>...</th>\n",
              "      <td>...</td>\n",
              "      <td>...</td>\n",
              "      <td>...</td>\n",
              "      <td>...</td>\n",
              "      <td>...</td>\n",
              "    </tr>\n",
              "    <tr>\n",
              "      <th>2021-07-22</th>\n",
              "      <td>32144.51</td>\n",
              "      <td>32591.35</td>\n",
              "      <td>31708.00</td>\n",
              "      <td>32287.83</td>\n",
              "      <td>46148.092433</td>\n",
              "    </tr>\n",
              "    <tr>\n",
              "      <th>2021-07-23</th>\n",
              "      <td>32287.58</td>\n",
              "      <td>33650.00</td>\n",
              "      <td>31924.32</td>\n",
              "      <td>33634.09</td>\n",
              "      <td>50112.863626</td>\n",
              "    </tr>\n",
              "    <tr>\n",
              "      <th>2021-07-24</th>\n",
              "      <td>33634.10</td>\n",
              "      <td>34500.00</td>\n",
              "      <td>33401.14</td>\n",
              "      <td>34258.14</td>\n",
              "      <td>47977.550138</td>\n",
              "    </tr>\n",
              "    <tr>\n",
              "      <th>2021-07-25</th>\n",
              "      <td>34261.51</td>\n",
              "      <td>35398.00</td>\n",
              "      <td>33851.12</td>\n",
              "      <td>35381.02</td>\n",
              "      <td>47852.928313</td>\n",
              "    </tr>\n",
              "    <tr>\n",
              "      <th>2021-07-26</th>\n",
              "      <td>35381.02</td>\n",
              "      <td>35875.00</td>\n",
              "      <td>35205.78</td>\n",
              "      <td>35829.33</td>\n",
              "      <td>5145.763523</td>\n",
              "    </tr>\n",
              "  </tbody>\n",
              "</table>\n",
              "<p>1000 rows × 5 columns</p>\n",
              "</div>"
            ],
            "text/plain": [
              "                open      high       low     close        volume\n",
              "2018-10-31   6330.01   6428.00   6245.02   6371.93  12148.888216\n",
              "2018-11-01   6369.52   6442.65   6348.66   6410.00   9099.035841\n",
              "2018-11-02   6410.00   6460.34   6388.20   6433.98   9739.440679\n",
              "2018-11-03   6432.80   6439.97   6345.00   6387.09   7661.241476\n",
              "2018-11-04   6388.00   6525.00   6359.00   6485.85  10592.394943\n",
              "...              ...       ...       ...       ...           ...\n",
              "2021-07-22  32144.51  32591.35  31708.00  32287.83  46148.092433\n",
              "2021-07-23  32287.58  33650.00  31924.32  33634.09  50112.863626\n",
              "2021-07-24  33634.10  34500.00  33401.14  34258.14  47977.550138\n",
              "2021-07-25  34261.51  35398.00  33851.12  35381.02  47852.928313\n",
              "2021-07-26  35381.02  35875.00  35205.78  35829.33   5145.763523\n",
              "\n",
              "[1000 rows x 5 columns]"
            ]
          },
          "metadata": {
            "tags": []
          },
          "execution_count": 1
        }
      ]
    },
    {
      "cell_type": "code",
      "metadata": {
        "id": "9gE7H6svtSVB"
      },
      "source": [
        "import numpy as np \n",
        "import matplotlib.pyplot as plt "
      ],
      "execution_count": 2,
      "outputs": []
    },
    {
      "cell_type": "code",
      "metadata": {
        "colab": {
          "base_uri": "https://localhost:8080/"
        },
        "id": "z4d8wZohtW31",
        "outputId": "6c0f6937-8aaa-47ef-f1be-4320bffe7881"
      },
      "source": [
        "!pip3 install yfinance\n",
        "import yfinance as yf"
      ],
      "execution_count": 3,
      "outputs": [
        {
          "output_type": "stream",
          "text": [
            "Requirement already satisfied: yfinance in /usr/local/lib/python3.7/dist-packages (0.1.63)\n",
            "Requirement already satisfied: requests>=2.20 in /usr/local/lib/python3.7/dist-packages (from yfinance) (2.23.0)\n",
            "Requirement already satisfied: lxml>=4.5.1 in /usr/local/lib/python3.7/dist-packages (from yfinance) (4.6.3)\n",
            "Requirement already satisfied: numpy>=1.15 in /usr/local/lib/python3.7/dist-packages (from yfinance) (1.19.5)\n",
            "Requirement already satisfied: multitasking>=0.0.7 in /usr/local/lib/python3.7/dist-packages (from yfinance) (0.0.9)\n",
            "Requirement already satisfied: pandas>=0.24 in /usr/local/lib/python3.7/dist-packages (from yfinance) (1.1.5)\n",
            "Requirement already satisfied: python-dateutil>=2.7.3 in /usr/local/lib/python3.7/dist-packages (from pandas>=0.24->yfinance) (2.8.1)\n",
            "Requirement already satisfied: pytz>=2017.2 in /usr/local/lib/python3.7/dist-packages (from pandas>=0.24->yfinance) (2018.9)\n",
            "Requirement already satisfied: six>=1.5 in /usr/local/lib/python3.7/dist-packages (from python-dateutil>=2.7.3->pandas>=0.24->yfinance) (1.15.0)\n",
            "Requirement already satisfied: certifi>=2017.4.17 in /usr/local/lib/python3.7/dist-packages (from requests>=2.20->yfinance) (2021.5.30)\n",
            "Requirement already satisfied: urllib3!=1.25.0,!=1.25.1,<1.26,>=1.21.1 in /usr/local/lib/python3.7/dist-packages (from requests>=2.20->yfinance) (1.24.3)\n",
            "Requirement already satisfied: chardet<4,>=3.0.2 in /usr/local/lib/python3.7/dist-packages (from requests>=2.20->yfinance) (3.0.4)\n",
            "Requirement already satisfied: idna<3,>=2.5 in /usr/local/lib/python3.7/dist-packages (from requests>=2.20->yfinance) (2.10)\n"
          ],
          "name": "stdout"
        }
      ]
    },
    {
      "cell_type": "markdown",
      "metadata": {
        "id": "SWuQ68W9xNCo"
      },
      "source": [
        "## Load live data"
      ]
    },
    {
      "cell_type": "code",
      "metadata": {
        "colab": {
          "base_uri": "https://localhost:8080/",
          "height": 449
        },
        "id": "-RYQAjuOtoKJ",
        "outputId": "56381988-ddbe-40ab-b1a6-0f8c0cf0b79d"
      },
      "source": [
        "data = yf.download(tickers=\"BTC-USD\", period=\"1d\", interval=\"15m\")\n",
        "data"
      ],
      "execution_count": 4,
      "outputs": [
        {
          "output_type": "stream",
          "text": [
            "\r[*********************100%***********************]  1 of 1 completed\n"
          ],
          "name": "stdout"
        },
        {
          "output_type": "execute_result",
          "data": {
            "text/html": [
              "<div>\n",
              "<style scoped>\n",
              "    .dataframe tbody tr th:only-of-type {\n",
              "        vertical-align: middle;\n",
              "    }\n",
              "\n",
              "    .dataframe tbody tr th {\n",
              "        vertical-align: top;\n",
              "    }\n",
              "\n",
              "    .dataframe thead th {\n",
              "        text-align: right;\n",
              "    }\n",
              "</style>\n",
              "<table border=\"1\" class=\"dataframe\">\n",
              "  <thead>\n",
              "    <tr style=\"text-align: right;\">\n",
              "      <th></th>\n",
              "      <th>Open</th>\n",
              "      <th>High</th>\n",
              "      <th>Low</th>\n",
              "      <th>Close</th>\n",
              "      <th>Adj Close</th>\n",
              "      <th>Volume</th>\n",
              "    </tr>\n",
              "    <tr>\n",
              "      <th>Datetime</th>\n",
              "      <th></th>\n",
              "      <th></th>\n",
              "      <th></th>\n",
              "      <th></th>\n",
              "      <th></th>\n",
              "      <th></th>\n",
              "    </tr>\n",
              "  </thead>\n",
              "  <tbody>\n",
              "    <tr>\n",
              "      <th>2021-07-26 00:00:00+01:00</th>\n",
              "      <td>34620.664062</td>\n",
              "      <td>34786.136719</td>\n",
              "      <td>34620.664062</td>\n",
              "      <td>34725.574219</td>\n",
              "      <td>34725.574219</td>\n",
              "      <td>228655104</td>\n",
              "    </tr>\n",
              "    <tr>\n",
              "      <th>2021-07-26 00:15:00+01:00</th>\n",
              "      <td>34595.140625</td>\n",
              "      <td>34824.531250</td>\n",
              "      <td>34595.140625</td>\n",
              "      <td>34824.531250</td>\n",
              "      <td>34824.531250</td>\n",
              "      <td>142389248</td>\n",
              "    </tr>\n",
              "    <tr>\n",
              "      <th>2021-07-26 00:30:00+01:00</th>\n",
              "      <td>34870.753906</td>\n",
              "      <td>35156.390625</td>\n",
              "      <td>34870.753906</td>\n",
              "      <td>35135.621094</td>\n",
              "      <td>35135.621094</td>\n",
              "      <td>582582272</td>\n",
              "    </tr>\n",
              "    <tr>\n",
              "      <th>2021-07-26 00:45:00+01:00</th>\n",
              "      <td>35228.558594</td>\n",
              "      <td>35350.187500</td>\n",
              "      <td>35172.078125</td>\n",
              "      <td>35350.187500</td>\n",
              "      <td>35350.187500</td>\n",
              "      <td>323047424</td>\n",
              "    </tr>\n",
              "    <tr>\n",
              "      <th>2021-07-26 01:00:00+01:00</th>\n",
              "      <td>35384.031250</td>\n",
              "      <td>35569.824219</td>\n",
              "      <td>35287.312500</td>\n",
              "      <td>35569.824219</td>\n",
              "      <td>35569.824219</td>\n",
              "      <td>306673664</td>\n",
              "    </tr>\n",
              "    <tr>\n",
              "      <th>...</th>\n",
              "      <td>...</td>\n",
              "      <td>...</td>\n",
              "      <td>...</td>\n",
              "      <td>...</td>\n",
              "      <td>...</td>\n",
              "      <td>...</td>\n",
              "    </tr>\n",
              "    <tr>\n",
              "      <th>2021-07-26 21:45:00+01:00</th>\n",
              "      <td>38034.578125</td>\n",
              "      <td>38136.148438</td>\n",
              "      <td>37464.656250</td>\n",
              "      <td>37603.796875</td>\n",
              "      <td>37603.796875</td>\n",
              "      <td>549015552</td>\n",
              "    </tr>\n",
              "    <tr>\n",
              "      <th>2021-07-26 22:00:00+01:00</th>\n",
              "      <td>37693.121094</td>\n",
              "      <td>37755.023438</td>\n",
              "      <td>37371.277344</td>\n",
              "      <td>37709.835938</td>\n",
              "      <td>37709.835938</td>\n",
              "      <td>690065408</td>\n",
              "    </tr>\n",
              "    <tr>\n",
              "      <th>2021-07-26 22:15:00+01:00</th>\n",
              "      <td>37693.597656</td>\n",
              "      <td>37784.722656</td>\n",
              "      <td>37448.992188</td>\n",
              "      <td>37560.523438</td>\n",
              "      <td>37560.523438</td>\n",
              "      <td>338747392</td>\n",
              "    </tr>\n",
              "    <tr>\n",
              "      <th>2021-07-26 22:30:00+01:00</th>\n",
              "      <td>37590.925781</td>\n",
              "      <td>37590.925781</td>\n",
              "      <td>36916.417969</td>\n",
              "      <td>37009.550781</td>\n",
              "      <td>37009.550781</td>\n",
              "      <td>112267264</td>\n",
              "    </tr>\n",
              "    <tr>\n",
              "      <th>2021-07-26 22:42:02+01:00</th>\n",
              "      <td>37016.398438</td>\n",
              "      <td>37016.398438</td>\n",
              "      <td>37016.398438</td>\n",
              "      <td>37016.398438</td>\n",
              "      <td>37016.398438</td>\n",
              "      <td>0</td>\n",
              "    </tr>\n",
              "  </tbody>\n",
              "</table>\n",
              "<p>92 rows × 6 columns</p>\n",
              "</div>"
            ],
            "text/plain": [
              "                                   Open          High  ...     Adj Close     Volume\n",
              "Datetime                                               ...                         \n",
              "2021-07-26 00:00:00+01:00  34620.664062  34786.136719  ...  34725.574219  228655104\n",
              "2021-07-26 00:15:00+01:00  34595.140625  34824.531250  ...  34824.531250  142389248\n",
              "2021-07-26 00:30:00+01:00  34870.753906  35156.390625  ...  35135.621094  582582272\n",
              "2021-07-26 00:45:00+01:00  35228.558594  35350.187500  ...  35350.187500  323047424\n",
              "2021-07-26 01:00:00+01:00  35384.031250  35569.824219  ...  35569.824219  306673664\n",
              "...                                 ...           ...  ...           ...        ...\n",
              "2021-07-26 21:45:00+01:00  38034.578125  38136.148438  ...  37603.796875  549015552\n",
              "2021-07-26 22:00:00+01:00  37693.121094  37755.023438  ...  37709.835938  690065408\n",
              "2021-07-26 22:15:00+01:00  37693.597656  37784.722656  ...  37560.523438  338747392\n",
              "2021-07-26 22:30:00+01:00  37590.925781  37590.925781  ...  37009.550781  112267264\n",
              "2021-07-26 22:42:02+01:00  37016.398438  37016.398438  ...  37016.398438          0\n",
              "\n",
              "[92 rows x 6 columns]"
            ]
          },
          "metadata": {
            "tags": []
          },
          "execution_count": 4
        }
      ]
    },
    {
      "cell_type": "code",
      "metadata": {
        "id": "2AiGSDrRuRuo"
      },
      "source": [
        "import plotly.graph_objs as go"
      ],
      "execution_count": 5,
      "outputs": []
    },
    {
      "cell_type": "code",
      "metadata": {
        "colab": {
          "base_uri": "https://localhost:8080/",
          "height": 542
        },
        "id": "HHG7XILYuX_b",
        "outputId": "f34c18d5-86ed-4501-bef0-ad8503e5570c"
      },
      "source": [
        "# declare figure\n",
        "fig = go.Figure() \n",
        "\n",
        "# candlestick\n",
        "fig.add_trace(go.Candlestick(x=data.index,\n",
        "                             open=data[\"Open\"],\n",
        "                             high=data[\"High\"],\n",
        "                             low=data[\"Low\"],\n",
        "                             close=data[\"Close\"],\n",
        "                             name=\"market data\"))\n",
        "\n",
        "# Add titles\n",
        "fig.update_layout(\n",
        "    title=\"Bitcoin live share price evolution\",\n",
        "    yaxis_title=\"Bitcoin Price (USD per share)\"\n",
        ")\n",
        "\n",
        "# X Axes\n",
        "fig.update_xaxes(\n",
        "    rangeslider_visible=True,\n",
        "    rangeselector=dict(\n",
        "        buttons=list(\n",
        "            [dict(count=15, label=\"15m\", step=\"minute\", stepmode=\"backward\"),\n",
        "             dict(count=45, label=\"45m\", step=\"minute\", stepmode=\"backward\"),\n",
        "             dict(count=1, label=\"HTD\", step=\"hour\", stepmode=\"todate\"),\n",
        "             dict(count=6, label=\"6h\", step=\"hour\", stepmode=\"backward\"),\n",
        "             dict(step=\"all\")\n",
        "             ]\n",
        "        )\n",
        "    )\n",
        ")"
      ],
      "execution_count": 6,
      "outputs": [
        {
          "output_type": "display_data",
          "data": {
            "text/html": [
              "<html>\n",
              "<head><meta charset=\"utf-8\" /></head>\n",
              "<body>\n",
              "    <div>\n",
              "            <script src=\"https://cdnjs.cloudflare.com/ajax/libs/mathjax/2.7.5/MathJax.js?config=TeX-AMS-MML_SVG\"></script><script type=\"text/javascript\">if (window.MathJax) {MathJax.Hub.Config({SVG: {font: \"STIX-Web\"}});}</script>\n",
              "                <script type=\"text/javascript\">window.PlotlyConfig = {MathJaxConfig: 'local'};</script>\n",
              "        <script src=\"https://cdn.plot.ly/plotly-latest.min.js\"></script>    \n",
              "            <div id=\"bbbee38d-cd27-4e0c-a36d-3a491e5fc1d4\" class=\"plotly-graph-div\" style=\"height:525px; width:100%;\"></div>\n",
              "            <script type=\"text/javascript\">\n",
              "                \n",
              "                    window.PLOTLYENV=window.PLOTLYENV || {};\n",
              "                    \n",
              "                if (document.getElementById(\"bbbee38d-cd27-4e0c-a36d-3a491e5fc1d4\")) {\n",
              "                    Plotly.newPlot(\n",
              "                        'bbbee38d-cd27-4e0c-a36d-3a491e5fc1d4',\n",
              "                        [{\"close\": [34725.57421875, 34824.53125, 35135.62109375, 35350.1875, 35569.82421875, 35718.671875, 35765.88671875, 36312.5546875, 38049.82421875, 37949.28515625, 38693.9765625, 38281.078125, 38035.0078125, 38282.33203125, 38412.2578125, 38062.8125, 38079.65625, 38154.57421875, 38177.140625, 38246.76953125, 38305.8203125, 38299.87109375, 38382.35546875, 38359.0234375, 38318.703125, 38400.625, 38503.890625, 38568.1875, 38637.0390625, 39061.3671875, 38892.86328125, 38631.3671875, 38734.61328125, 38700.625, 38091.2265625, 38189.3359375, 37903.0234375, 38019.96484375, 37978.05078125, 38185.33203125, 38258.5859375, 38275.5234375, 38248.16015625, 38218.14453125, 38286.3046875, 38165.78125, 38402.2578125, 38476.1015625, 38521.48828125, 38451.7734375, 38478.77734375, 38508.984375, 38493.36328125, 38731.1484375, 38781.4296875, 38662.953125, 38005.23046875, 38333.55859375, 38310.390625, 38337.90234375, 38401.2890625, 38438.7421875, 38232.3515625, 38361.00390625, 38283.390625, 38380.359375, 38550.4140625, 38603.90625, 38736.953125, 39267.34375, 39248.41796875, 38994.76171875, 38914.84765625, 39166.859375, 39375.1875, 39218.78515625, 39375.00390625, 39657.65234375, 39769.640625, 39702.0, 40163.71484375, 40274.25390625, 39831.10546875, 39796.7890625, 38399.625, 37704.5546875, 37979.234375, 37603.796875, 37709.8359375, 37560.5234375, 37009.55078125, 37016.3984375], \"high\": [34786.13671875, 34824.53125, 35156.390625, 35350.1875, 35569.82421875, 35756.40625, 35859.8125, 36312.5546875, 38677.33984375, 37993.421875, 38693.9765625, 38383.50390625, 38362.66015625, 38282.33203125, 38497.7890625, 38345.09375, 38124.55859375, 38174.3046875, 38177.140625, 38246.76953125, 38408.51171875, 38389.9375, 38382.35546875, 38507.93359375, 38354.9453125, 38439.0703125, 38503.890625, 38568.43359375, 38639.5078125, 39152.47265625, 39163.28125, 38992.0625, 38771.8671875, 38842.515625, 38670.78125, 38269.18359375, 38275.05859375, 38096.47265625, 38133.42578125, 38185.33203125, 38338.55078125, 38325.30078125, 38316.71484375, 38219.5859375, 38317.9375, 38285.1015625, 38414.5078125, 38476.1015625, 38658.85546875, 38560.72265625, 38541.546875, 38529.8984375, 38531.81640625, 38739.328125, 38856.82421875, 38780.54296875, 38656.40625, 38333.55859375, 38324.8984375, 38375.54296875, 38474.69921875, 38481.34765625, 38428.0078125, 38361.00390625, 38345.953125, 38380.55078125, 38589.3515625, 38638.7890625, 38736.953125, 39267.34375, 39437.8671875, 39216.46484375, 39041.0546875, 39238.55859375, 39375.1875, 39382.68359375, 39530.46875, 39657.65234375, 39843.50390625, 39889.02734375, 40212.78125, 40499.67578125, 40282.75, 39858.99609375, 39451.30078125, 38589.6875, 38176.0625, 38136.1484375, 37755.0234375, 37784.72265625, 37590.92578125, 37016.3984375], \"low\": [34620.6640625, 34595.140625, 34870.75390625, 35172.078125, 35287.3125, 35620.9765625, 35724.20703125, 35827.6484375, 36691.3515625, 37679.59765625, 37961.13671875, 38143.015625, 37955.8984375, 38118.77734375, 38239.140625, 38062.8125, 38017.6796875, 38074.3046875, 38101.6171875, 38140.4296875, 38211.5859375, 38240.125, 38259.30078125, 38359.0234375, 38258.5390625, 38300.6875, 38371.1171875, 38419.94921875, 38507.21484375, 38625.35546875, 38892.86328125, 38563.8828125, 38632.3828125, 38644.09765625, 38010.4296875, 38076.6484375, 37827.046875, 37862.6640625, 37923.26953125, 38032.171875, 38175.8984375, 38223.02734375, 38202.65625, 38072.5078125, 38208.88671875, 38155.20703125, 38159.8828125, 38396.59375, 38521.48828125, 38451.7734375, 38474.33984375, 38425.58984375, 38336.265625, 38518.359375, 38706.21484375, 38617.453125, 38005.23046875, 37972.80859375, 38161.09765625, 38281.46484375, 38342.609375, 38422.37109375, 38232.3515625, 38235.5625, 38229.9765625, 38289.80859375, 38386.35546875, 38510.453125, 38559.02734375, 38687.40234375, 39113.546875, 38989.00390625, 38835.5625, 38913.7890625, 39169.5234375, 39190.25, 39200.05078125, 39391.34765625, 39570.54296875, 39702.0, 39650.3828125, 40111.40234375, 39642.578125, 39670.7421875, 38399.625, 37704.5546875, 37867.11328125, 37464.65625, 37371.27734375, 37448.9921875, 36916.41796875, 37016.3984375], \"name\": \"market data\", \"open\": [34620.6640625, 34595.140625, 34870.75390625, 35228.55859375, 35384.03125, 35756.40625, 35724.20703125, 35827.6484375, 36691.3515625, 37993.421875, 37981.1953125, 38383.50390625, 38328.03125, 38149.2109375, 38312.6875, 38312.0703125, 38047.0546875, 38099.390625, 38146.36328125, 38204.5546875, 38289.86328125, 38321.00390625, 38326.96484375, 38486.703125, 38302.34765625, 38365.33203125, 38441.24609375, 38485.046875, 38577.89453125, 38656.02734375, 39070.6328125, 38925.15234375, 38632.3828125, 38763.6640625, 38670.78125, 38076.6484375, 38155.9609375, 37929.453125, 38045.26171875, 38032.171875, 38189.015625, 38249.54296875, 38302.828125, 38153.80859375, 38237.17578125, 38285.1015625, 38197.18359375, 38405.86328125, 38610.09375, 38560.546875, 38474.33984375, 38516.31640625, 38493.44140625, 38518.359375, 38706.21484375, 38780.54296875, 38656.40625, 37972.80859375, 38300.8046875, 38281.46484375, 38342.609375, 38438.6796875, 38428.0078125, 38235.5625, 38312.94140625, 38297.92578125, 38386.35546875, 38618.09375, 38605.6015625, 38783.640625, 39229.45703125, 39216.46484375, 39041.0546875, 38913.7890625, 39170.859375, 39382.68359375, 39218.83984375, 39458.12890625, 39673.171875, 39776.91796875, 39706.51953125, 40219.953125, 40282.75, 39858.99609375, 39451.30078125, 38267.59765625, 37875.7421875, 38034.578125, 37693.12109375, 37693.59765625, 37590.92578125, 37016.3984375], \"type\": \"candlestick\", \"x\": [\"2021-07-26T00:00:00+01:00\", \"2021-07-26T00:15:00+01:00\", \"2021-07-26T00:30:00+01:00\", \"2021-07-26T00:45:00+01:00\", \"2021-07-26T01:00:00+01:00\", \"2021-07-26T01:15:00+01:00\", \"2021-07-26T01:30:00+01:00\", \"2021-07-26T01:45:00+01:00\", \"2021-07-26T02:00:00+01:00\", \"2021-07-26T02:15:00+01:00\", \"2021-07-26T02:30:00+01:00\", \"2021-07-26T02:45:00+01:00\", \"2021-07-26T03:00:00+01:00\", \"2021-07-26T03:15:00+01:00\", \"2021-07-26T03:30:00+01:00\", \"2021-07-26T03:45:00+01:00\", \"2021-07-26T04:00:00+01:00\", \"2021-07-26T04:15:00+01:00\", \"2021-07-26T04:30:00+01:00\", \"2021-07-26T04:45:00+01:00\", \"2021-07-26T05:00:00+01:00\", \"2021-07-26T05:15:00+01:00\", \"2021-07-26T05:30:00+01:00\", \"2021-07-26T05:45:00+01:00\", \"2021-07-26T06:00:00+01:00\", \"2021-07-26T06:15:00+01:00\", \"2021-07-26T06:30:00+01:00\", \"2021-07-26T06:45:00+01:00\", \"2021-07-26T07:00:00+01:00\", \"2021-07-26T07:15:00+01:00\", \"2021-07-26T07:30:00+01:00\", \"2021-07-26T07:45:00+01:00\", \"2021-07-26T08:00:00+01:00\", \"2021-07-26T08:15:00+01:00\", \"2021-07-26T08:30:00+01:00\", \"2021-07-26T08:45:00+01:00\", \"2021-07-26T09:00:00+01:00\", \"2021-07-26T09:15:00+01:00\", \"2021-07-26T09:30:00+01:00\", \"2021-07-26T09:45:00+01:00\", \"2021-07-26T10:00:00+01:00\", \"2021-07-26T10:15:00+01:00\", \"2021-07-26T10:30:00+01:00\", \"2021-07-26T10:45:00+01:00\", \"2021-07-26T11:00:00+01:00\", \"2021-07-26T11:15:00+01:00\", \"2021-07-26T11:30:00+01:00\", \"2021-07-26T11:45:00+01:00\", \"2021-07-26T12:00:00+01:00\", \"2021-07-26T12:15:00+01:00\", \"2021-07-26T12:30:00+01:00\", \"2021-07-26T12:45:00+01:00\", \"2021-07-26T13:00:00+01:00\", \"2021-07-26T13:15:00+01:00\", \"2021-07-26T13:30:00+01:00\", \"2021-07-26T13:45:00+01:00\", \"2021-07-26T14:00:00+01:00\", \"2021-07-26T14:15:00+01:00\", \"2021-07-26T14:30:00+01:00\", \"2021-07-26T14:45:00+01:00\", \"2021-07-26T15:00:00+01:00\", \"2021-07-26T15:15:00+01:00\", \"2021-07-26T15:30:00+01:00\", \"2021-07-26T15:45:00+01:00\", \"2021-07-26T16:00:00+01:00\", \"2021-07-26T16:15:00+01:00\", \"2021-07-26T16:30:00+01:00\", \"2021-07-26T16:45:00+01:00\", \"2021-07-26T17:00:00+01:00\", \"2021-07-26T17:15:00+01:00\", \"2021-07-26T17:30:00+01:00\", \"2021-07-26T17:45:00+01:00\", \"2021-07-26T18:00:00+01:00\", \"2021-07-26T18:15:00+01:00\", \"2021-07-26T18:30:00+01:00\", \"2021-07-26T18:45:00+01:00\", \"2021-07-26T19:00:00+01:00\", \"2021-07-26T19:15:00+01:00\", \"2021-07-26T19:30:00+01:00\", \"2021-07-26T19:45:00+01:00\", \"2021-07-26T20:00:00+01:00\", \"2021-07-26T20:15:00+01:00\", \"2021-07-26T20:30:00+01:00\", \"2021-07-26T20:45:00+01:00\", \"2021-07-26T21:00:00+01:00\", \"2021-07-26T21:15:00+01:00\", \"2021-07-26T21:30:00+01:00\", \"2021-07-26T21:45:00+01:00\", \"2021-07-26T22:00:00+01:00\", \"2021-07-26T22:15:00+01:00\", \"2021-07-26T22:30:00+01:00\", \"2021-07-26T22:42:02+01:00\"]}],\n",
              "                        {\"template\": {\"data\": {\"bar\": [{\"error_x\": {\"color\": \"#2a3f5f\"}, \"error_y\": {\"color\": \"#2a3f5f\"}, \"marker\": {\"line\": {\"color\": \"#E5ECF6\", \"width\": 0.5}}, \"type\": \"bar\"}], \"barpolar\": [{\"marker\": {\"line\": {\"color\": \"#E5ECF6\", \"width\": 0.5}}, \"type\": \"barpolar\"}], \"carpet\": [{\"aaxis\": {\"endlinecolor\": \"#2a3f5f\", \"gridcolor\": \"white\", \"linecolor\": \"white\", \"minorgridcolor\": \"white\", \"startlinecolor\": \"#2a3f5f\"}, \"baxis\": {\"endlinecolor\": \"#2a3f5f\", \"gridcolor\": \"white\", \"linecolor\": \"white\", \"minorgridcolor\": \"white\", \"startlinecolor\": \"#2a3f5f\"}, \"type\": \"carpet\"}], \"choropleth\": [{\"colorbar\": {\"outlinewidth\": 0, \"ticks\": \"\"}, \"type\": \"choropleth\"}], \"contour\": [{\"colorbar\": {\"outlinewidth\": 0, \"ticks\": \"\"}, \"colorscale\": [[0.0, \"#0d0887\"], [0.1111111111111111, \"#46039f\"], [0.2222222222222222, \"#7201a8\"], [0.3333333333333333, \"#9c179e\"], [0.4444444444444444, \"#bd3786\"], [0.5555555555555556, \"#d8576b\"], [0.6666666666666666, \"#ed7953\"], [0.7777777777777778, \"#fb9f3a\"], [0.8888888888888888, \"#fdca26\"], [1.0, \"#f0f921\"]], \"type\": \"contour\"}], \"contourcarpet\": [{\"colorbar\": {\"outlinewidth\": 0, \"ticks\": \"\"}, \"type\": \"contourcarpet\"}], \"heatmap\": [{\"colorbar\": {\"outlinewidth\": 0, \"ticks\": \"\"}, \"colorscale\": [[0.0, \"#0d0887\"], [0.1111111111111111, \"#46039f\"], [0.2222222222222222, \"#7201a8\"], [0.3333333333333333, \"#9c179e\"], [0.4444444444444444, \"#bd3786\"], [0.5555555555555556, \"#d8576b\"], [0.6666666666666666, \"#ed7953\"], [0.7777777777777778, \"#fb9f3a\"], [0.8888888888888888, \"#fdca26\"], [1.0, \"#f0f921\"]], \"type\": \"heatmap\"}], \"heatmapgl\": [{\"colorbar\": {\"outlinewidth\": 0, \"ticks\": \"\"}, \"colorscale\": [[0.0, \"#0d0887\"], [0.1111111111111111, \"#46039f\"], [0.2222222222222222, \"#7201a8\"], [0.3333333333333333, \"#9c179e\"], [0.4444444444444444, \"#bd3786\"], [0.5555555555555556, \"#d8576b\"], [0.6666666666666666, \"#ed7953\"], [0.7777777777777778, \"#fb9f3a\"], [0.8888888888888888, \"#fdca26\"], [1.0, \"#f0f921\"]], \"type\": \"heatmapgl\"}], \"histogram\": [{\"marker\": {\"colorbar\": {\"outlinewidth\": 0, \"ticks\": \"\"}}, \"type\": \"histogram\"}], \"histogram2d\": [{\"colorbar\": {\"outlinewidth\": 0, \"ticks\": \"\"}, \"colorscale\": [[0.0, \"#0d0887\"], [0.1111111111111111, \"#46039f\"], [0.2222222222222222, \"#7201a8\"], [0.3333333333333333, \"#9c179e\"], [0.4444444444444444, \"#bd3786\"], [0.5555555555555556, \"#d8576b\"], [0.6666666666666666, \"#ed7953\"], [0.7777777777777778, \"#fb9f3a\"], [0.8888888888888888, \"#fdca26\"], [1.0, \"#f0f921\"]], \"type\": \"histogram2d\"}], \"histogram2dcontour\": [{\"colorbar\": {\"outlinewidth\": 0, \"ticks\": \"\"}, \"colorscale\": [[0.0, \"#0d0887\"], [0.1111111111111111, \"#46039f\"], [0.2222222222222222, \"#7201a8\"], [0.3333333333333333, \"#9c179e\"], [0.4444444444444444, \"#bd3786\"], [0.5555555555555556, \"#d8576b\"], [0.6666666666666666, \"#ed7953\"], [0.7777777777777778, \"#fb9f3a\"], [0.8888888888888888, \"#fdca26\"], [1.0, \"#f0f921\"]], \"type\": \"histogram2dcontour\"}], \"mesh3d\": [{\"colorbar\": {\"outlinewidth\": 0, \"ticks\": \"\"}, \"type\": \"mesh3d\"}], \"parcoords\": [{\"line\": {\"colorbar\": {\"outlinewidth\": 0, \"ticks\": \"\"}}, \"type\": \"parcoords\"}], \"pie\": [{\"automargin\": true, \"type\": \"pie\"}], \"scatter\": [{\"marker\": {\"colorbar\": {\"outlinewidth\": 0, \"ticks\": \"\"}}, \"type\": \"scatter\"}], \"scatter3d\": [{\"line\": {\"colorbar\": {\"outlinewidth\": 0, \"ticks\": \"\"}}, \"marker\": {\"colorbar\": {\"outlinewidth\": 0, \"ticks\": \"\"}}, \"type\": \"scatter3d\"}], \"scattercarpet\": [{\"marker\": {\"colorbar\": {\"outlinewidth\": 0, \"ticks\": \"\"}}, \"type\": \"scattercarpet\"}], \"scattergeo\": [{\"marker\": {\"colorbar\": {\"outlinewidth\": 0, \"ticks\": \"\"}}, \"type\": \"scattergeo\"}], \"scattergl\": [{\"marker\": {\"colorbar\": {\"outlinewidth\": 0, \"ticks\": \"\"}}, \"type\": \"scattergl\"}], \"scattermapbox\": [{\"marker\": {\"colorbar\": {\"outlinewidth\": 0, \"ticks\": \"\"}}, \"type\": \"scattermapbox\"}], \"scatterpolar\": [{\"marker\": {\"colorbar\": {\"outlinewidth\": 0, \"ticks\": \"\"}}, \"type\": \"scatterpolar\"}], \"scatterpolargl\": [{\"marker\": {\"colorbar\": {\"outlinewidth\": 0, \"ticks\": \"\"}}, \"type\": \"scatterpolargl\"}], \"scatterternary\": [{\"marker\": {\"colorbar\": {\"outlinewidth\": 0, \"ticks\": \"\"}}, \"type\": \"scatterternary\"}], \"surface\": [{\"colorbar\": {\"outlinewidth\": 0, \"ticks\": \"\"}, \"colorscale\": [[0.0, \"#0d0887\"], [0.1111111111111111, \"#46039f\"], [0.2222222222222222, \"#7201a8\"], [0.3333333333333333, \"#9c179e\"], [0.4444444444444444, \"#bd3786\"], [0.5555555555555556, \"#d8576b\"], [0.6666666666666666, \"#ed7953\"], [0.7777777777777778, \"#fb9f3a\"], [0.8888888888888888, \"#fdca26\"], [1.0, \"#f0f921\"]], \"type\": \"surface\"}], \"table\": [{\"cells\": {\"fill\": {\"color\": \"#EBF0F8\"}, \"line\": {\"color\": \"white\"}}, \"header\": {\"fill\": {\"color\": \"#C8D4E3\"}, \"line\": {\"color\": \"white\"}}, \"type\": \"table\"}]}, \"layout\": {\"annotationdefaults\": {\"arrowcolor\": \"#2a3f5f\", \"arrowhead\": 0, \"arrowwidth\": 1}, \"coloraxis\": {\"colorbar\": {\"outlinewidth\": 0, \"ticks\": \"\"}}, \"colorscale\": {\"diverging\": [[0, \"#8e0152\"], [0.1, \"#c51b7d\"], [0.2, \"#de77ae\"], [0.3, \"#f1b6da\"], [0.4, \"#fde0ef\"], [0.5, \"#f7f7f7\"], [0.6, \"#e6f5d0\"], [0.7, \"#b8e186\"], [0.8, \"#7fbc41\"], [0.9, \"#4d9221\"], [1, \"#276419\"]], \"sequential\": [[0.0, \"#0d0887\"], [0.1111111111111111, \"#46039f\"], [0.2222222222222222, \"#7201a8\"], [0.3333333333333333, \"#9c179e\"], [0.4444444444444444, \"#bd3786\"], [0.5555555555555556, \"#d8576b\"], [0.6666666666666666, \"#ed7953\"], [0.7777777777777778, \"#fb9f3a\"], [0.8888888888888888, \"#fdca26\"], [1.0, \"#f0f921\"]], \"sequentialminus\": [[0.0, \"#0d0887\"], [0.1111111111111111, \"#46039f\"], [0.2222222222222222, \"#7201a8\"], [0.3333333333333333, \"#9c179e\"], [0.4444444444444444, \"#bd3786\"], [0.5555555555555556, \"#d8576b\"], [0.6666666666666666, \"#ed7953\"], [0.7777777777777778, \"#fb9f3a\"], [0.8888888888888888, \"#fdca26\"], [1.0, \"#f0f921\"]]}, \"colorway\": [\"#636efa\", \"#EF553B\", \"#00cc96\", \"#ab63fa\", \"#FFA15A\", \"#19d3f3\", \"#FF6692\", \"#B6E880\", \"#FF97FF\", \"#FECB52\"], \"font\": {\"color\": \"#2a3f5f\"}, \"geo\": {\"bgcolor\": \"white\", \"lakecolor\": \"white\", \"landcolor\": \"#E5ECF6\", \"showlakes\": true, \"showland\": true, \"subunitcolor\": \"white\"}, \"hoverlabel\": {\"align\": \"left\"}, \"hovermode\": \"closest\", \"mapbox\": {\"style\": \"light\"}, \"paper_bgcolor\": \"white\", \"plot_bgcolor\": \"#E5ECF6\", \"polar\": {\"angularaxis\": {\"gridcolor\": \"white\", \"linecolor\": \"white\", \"ticks\": \"\"}, \"bgcolor\": \"#E5ECF6\", \"radialaxis\": {\"gridcolor\": \"white\", \"linecolor\": \"white\", \"ticks\": \"\"}}, \"scene\": {\"xaxis\": {\"backgroundcolor\": \"#E5ECF6\", \"gridcolor\": \"white\", \"gridwidth\": 2, \"linecolor\": \"white\", \"showbackground\": true, \"ticks\": \"\", \"zerolinecolor\": \"white\"}, \"yaxis\": {\"backgroundcolor\": \"#E5ECF6\", \"gridcolor\": \"white\", \"gridwidth\": 2, \"linecolor\": \"white\", \"showbackground\": true, \"ticks\": \"\", \"zerolinecolor\": \"white\"}, \"zaxis\": {\"backgroundcolor\": \"#E5ECF6\", \"gridcolor\": \"white\", \"gridwidth\": 2, \"linecolor\": \"white\", \"showbackground\": true, \"ticks\": \"\", \"zerolinecolor\": \"white\"}}, \"shapedefaults\": {\"line\": {\"color\": \"#2a3f5f\"}}, \"ternary\": {\"aaxis\": {\"gridcolor\": \"white\", \"linecolor\": \"white\", \"ticks\": \"\"}, \"baxis\": {\"gridcolor\": \"white\", \"linecolor\": \"white\", \"ticks\": \"\"}, \"bgcolor\": \"#E5ECF6\", \"caxis\": {\"gridcolor\": \"white\", \"linecolor\": \"white\", \"ticks\": \"\"}}, \"title\": {\"x\": 0.05}, \"xaxis\": {\"automargin\": true, \"gridcolor\": \"white\", \"linecolor\": \"white\", \"ticks\": \"\", \"title\": {\"standoff\": 15}, \"zerolinecolor\": \"white\", \"zerolinewidth\": 2}, \"yaxis\": {\"automargin\": true, \"gridcolor\": \"white\", \"linecolor\": \"white\", \"ticks\": \"\", \"title\": {\"standoff\": 15}, \"zerolinecolor\": \"white\", \"zerolinewidth\": 2}}}, \"title\": {\"text\": \"Bitcoin live share price evolution\"}, \"xaxis\": {\"rangeselector\": {\"buttons\": [{\"count\": 15, \"label\": \"15m\", \"step\": \"minute\", \"stepmode\": \"backward\"}, {\"count\": 45, \"label\": \"45m\", \"step\": \"minute\", \"stepmode\": \"backward\"}, {\"count\": 1, \"label\": \"HTD\", \"step\": \"hour\", \"stepmode\": \"todate\"}, {\"count\": 6, \"label\": \"6h\", \"step\": \"hour\", \"stepmode\": \"backward\"}, {\"step\": \"all\"}]}, \"rangeslider\": {\"visible\": true}}, \"yaxis\": {\"title\": {\"text\": \"Bitcoin Price (USD per share)\"}}},\n",
              "                        {\"responsive\": true}\n",
              "                    ).then(function(){\n",
              "                            \n",
              "var gd = document.getElementById('bbbee38d-cd27-4e0c-a36d-3a491e5fc1d4');\n",
              "var x = new MutationObserver(function (mutations, observer) {{\n",
              "        var display = window.getComputedStyle(gd).display;\n",
              "        if (!display || display === 'none') {{\n",
              "            console.log([gd, 'removed!']);\n",
              "            Plotly.purge(gd);\n",
              "            observer.disconnect();\n",
              "        }}\n",
              "}});\n",
              "\n",
              "// Listen for the removal of the full notebook cells\n",
              "var notebookContainer = gd.closest('#notebook-container');\n",
              "if (notebookContainer) {{\n",
              "    x.observe(notebookContainer, {childList: true});\n",
              "}}\n",
              "\n",
              "// Listen for the clearing of the current output cell\n",
              "var outputEl = gd.closest('.output');\n",
              "if (outputEl) {{\n",
              "    x.observe(outputEl, {childList: true});\n",
              "}}\n",
              "\n",
              "                        })\n",
              "                };\n",
              "                \n",
              "            </script>\n",
              "        </div>\n",
              "</body>\n",
              "</html>"
            ]
          },
          "metadata": {
            "tags": []
          }
        }
      ]
    }
  ]
}