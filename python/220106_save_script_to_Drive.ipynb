{
  "nbformat": 4,
  "nbformat_minor": 0,
  "metadata": {
    "colab": {
      "name": "220106_save_script_to Drive.ipynb",
      "provenance": [],
      "collapsed_sections": []
    },
    "kernelspec": {
      "name": "python3",
      "display_name": "Python 3"
    },
    "language_info": {
      "name": "python"
    }
  },
  "cells": [
    {
      "cell_type": "markdown",
      "source": [
        "# Working with Google Drive in Google Colab \n",
        "\n",
        "Assume that we are working with Python in Google Colab. Now we have an awesome algorithm called `demo`:\n",
        "```python\n",
        "def demo():\n",
        "    print(\"Hello the world from learn_1.py\") \n",
        "```\n",
        "\n",
        "*Question:* How do we save this function to our Drive?\n",
        "\n",
        "----\n",
        "\n",
        "A simple solution is to use the packages `drive`, `os` and magic syntax `%%writefile` as follows.\n",
        "\n",
        "**Step 1. Create a folder in Drive**\n",
        "\n",
        "\n",
        "We first mount our drive to Colab. \n",
        "\n",
        "```python\n",
        "from google.colab import drive\n",
        "drive.mount('/content/drive')\n",
        "```\n",
        "\n",
        "A window will pop up and we have to connect our google acount to access the Drive.\n",
        "\n",
        "Now, import `os` package to manipulate the files.\n",
        "\n",
        "```python\n",
        "import os\n",
        "```\n",
        "\n",
        "Let's move to our Drive, create a `working` folder and enter it.\n",
        "\n",
        "```python \n",
        "os.cddir(\"/content/drive/MyDrive\")\n",
        "folder_name = \"working\"\n",
        "os.mkdir(folder_name)\n",
        "os.chdir(folderr_name)\n",
        "```\n",
        "\n",
        "Now, we are inside the folder `working`. We can check it by using the command `os.getcwd()`.\n",
        "\n",
        "\n",
        "**Step 2. Save the function**\n",
        "\n",
        "Now we put the `demo` function into a script named `learn_1.py` and save it to the `working` folder by using the magic command `%%writefile`.\n",
        "\n",
        "\n",
        "\n",
        "```python\n",
        "%%writefile learn_1.py \n",
        "\n",
        "def demo():\n",
        "    print(\"Hello the world from learn_1.py\") \n",
        "```\n",
        "\n",
        "**Step 3. Reuse the function** \n",
        "\n",
        "In the future, you can re-use this function by doing as follows. Go to Goggle Colab and run the following code.\n",
        "\n",
        "```python\n",
        "# go to the folder\n",
        "from google.colab import drive\n",
        "drive.mount('/content/drive')\n",
        "import os\n",
        "os.cddir(\"/content/drive/MyDrive/working\")# the path of file learn_1.py\n",
        "\n",
        "# begin your code \n",
        "from learn_1.py import demo\n",
        "demo()\n",
        "```\n",
        "\n",
        "Again, we have connect to our Drive and will get the string `\"Hello the world from learn_1.py\"` as desired.\n",
        "\n",
        "*Note.* Make sure that we are being in the folder containing `learn_1.py`, otherwise, we cannot import it. In such case, we may create an empty folder named `__init__.py` in `working` folder. This set the whole folder `working` as a Python package, so you can import `demo` function by the command `from working.learn_1 import demo` assuming that we are in the path `/content/drive/MyDrive` containing `working` folder."
      ],
      "metadata": {
        "id": "7jbgOA2zEYXP"
      }
    },
    {
      "cell_type": "code",
      "source": [
        "from google.colab import drive\n",
        "drive.mount('/content/drive')"
      ],
      "metadata": {
        "id": "JKTz2lrfAv31",
        "colab": {
          "base_uri": "https://localhost:8080/"
        },
        "outputId": "a57a0b53-f4d5-4e6e-ee15-4bfc25ad6e5c"
      },
      "execution_count": 1,
      "outputs": [
        {
          "output_type": "stream",
          "name": "stdout",
          "text": [
            "Drive already mounted at /content/drive; to attempt to forcibly remount, call drive.mount(\"/content/drive\", force_remount=True).\n"
          ]
        }
      ]
    },
    {
      "cell_type": "code",
      "source": [
        "import os "
      ],
      "metadata": {
        "id": "yW_7tX63CIps"
      },
      "execution_count": 2,
      "outputs": []
    },
    {
      "cell_type": "code",
      "source": [
        "os.chdir(\"/content/drive/MyDrive/sfw/learn\") "
      ],
      "metadata": {
        "id": "Vrep__E_PIi7"
      },
      "execution_count": 3,
      "outputs": []
    },
    {
      "cell_type": "code",
      "source": [
        "%%writefile learn_1.py \n",
        "\n",
        "\n",
        "def demo():\n",
        "    print(\"Hello the world from learn_1.py\") "
      ],
      "metadata": {
        "colab": {
          "base_uri": "https://localhost:8080/"
        },
        "id": "quTYgp-XDsyT",
        "outputId": "b949f315-14e2-48de-e735-c06505db3418"
      },
      "execution_count": 4,
      "outputs": [
        {
          "output_type": "stream",
          "name": "stdout",
          "text": [
            "Overwriting learn_1.py\n"
          ]
        }
      ]
    },
    {
      "cell_type": "code",
      "source": [
        "from learn_1 import demo \n",
        "demo()"
      ],
      "metadata": {
        "colab": {
          "base_uri": "https://localhost:8080/"
        },
        "id": "pTbBvL1jEG22",
        "outputId": "c8c144fa-95cf-47e5-e9d4-efa98c0aa9e1"
      },
      "execution_count": 5,
      "outputs": [
        {
          "output_type": "stream",
          "name": "stdout",
          "text": [
            "Hello the world from learn_1.py\n"
          ]
        }
      ]
    }
  ]
}