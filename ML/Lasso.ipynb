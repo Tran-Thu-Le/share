{
  "nbformat": 4,
  "nbformat_minor": 0,
  "metadata": {
    "colab": {
      "name": "Bản sao của Bản sao của Untitled44.ipynb",
      "provenance": [],
      "collapsed_sections": [
        "uNFPTUWednOG",
        "itZKxcddt68N"
      ],
      "toc_visible": true,
      "authorship_tag": "ABX9TyPSjEhMINbk6AoV5ZIjpLdZ",
      "include_colab_link": true
    },
    "kernelspec": {
      "name": "python3",
      "display_name": "Python 3"
    },
    "language_info": {
      "name": "python"
    }
  },
  "cells": [
    {
      "cell_type": "markdown",
      "metadata": {
        "id": "view-in-github",
        "colab_type": "text"
      },
      "source": [
        "<a href=\"https://colab.research.google.com/github/Tran-Thu-Le/share/blob/main/ML/Lasso.ipynb\" target=\"_parent\"><img src=\"https://colab.research.google.com/assets/colab-badge.svg\" alt=\"Open In Colab\"/></a>"
      ]
    },
    {
      "cell_type": "markdown",
      "metadata": {
        "id": "Sv32BgSicBmZ"
      },
      "source": [
        "# Seminar: Lasso problem\n",
        "\n",
        "**Speaker:** [Tran Thu Le][1]\n",
        "\n",
        "University of Rennes 1, France\n",
        "\n",
        "Rennes, France, 2021-09-06\n",
        "\n",
        "[1]: https://github.com/Tran-Thu-Le"
      ]
    },
    {
      "cell_type": "markdown",
      "metadata": {
        "id": "lpvRmWiXdgfd"
      },
      "source": [
        "## Abstract"
      ]
    },
    {
      "cell_type": "markdown",
      "metadata": {
        "id": "_ij-fHZfdlEs"
      },
      "source": [
        "[Lasso][a] is an important problem in statistics. Its name is the abreviation of \"least absolute shrinkage and selection operator\" that performs both variable selection, regularization and sparsity.\n",
        "\n",
        "In this note, we motivate the Lasso problem and its characteristics and introduce  a solving method called ISTA.\n",
        "\n",
        "In a nutshell, Lasso problem is defined as follows\n",
        "$$\\min_{x\\in \\mathbb R^n} \\frac{1}{2}||y-Ax||_2^2+\\lambda||x||_1$$\n",
        "where $y\\in \\mathbb R^m$, $A\\in \\mathbb R^{m\\times n}$ and $\\lambda>0$.\n",
        "\n",
        "The Lasso is closely related to [Basis pursuit denoising][b] a crucial problem in image processing and signal processing.\n",
        "\n",
        "[a]: https://en.wikipedia.org/wiki/Lasso_(statistics)\n",
        "[b]: https://en.wikipedia.org/wiki/Basis_pursuit_denoising\n",
        "\n"
      ]
    },
    {
      "cell_type": "markdown",
      "metadata": {
        "id": "UAj4sj19cx0-"
      },
      "source": [
        "## Motivation"
      ]
    },
    {
      "cell_type": "markdown",
      "metadata": {
        "id": "aeAhfBA_acxd"
      },
      "source": [
        "**Model.** We are given an \"observation\" $y\\in \\mathbb R^m$ which is a noisy combination of  a **few** \"atoms\" $a_i\\in \\mathbb R^m$ with positive coefficients $x_i\\in \\mathbb R$ for $i=1,...,n$, i.e.\n",
        "    $$y=x_1a_1 + ... + x_na_n +\\varepsilon,$$\n",
        "    where $\\varepsilon\\in \\mathbb R^m$ represents the noise.\n",
        "\n",
        "**Question.** Assume that $y$ and $a_i$, $i=1,...,n$ were known. The question is how to recover $x_i$, $i=1,..., n$.\n",
        "\n",
        "**Challenge.** The problem is not easy even in the case $\\varepsilon=0_{\\mathbb R^m}$ since we usually have $m\\neq n$."
      ]
    },
    {
      "cell_type": "markdown",
      "metadata": {
        "id": "lu45oC3ka0y2"
      },
      "source": [
        "#### Example 1. Ordinary Least Square\n"
      ]
    },
    {
      "cell_type": "markdown",
      "metadata": {
        "id": "V6OBOIreeIY9"
      },
      "source": [
        "\n",
        "Assume that $y=xa+\\varepsilon$ for $y, a, \\varepsilon\\in \\mathbb R^m$ and $x>0$. The relation between $y$ and $a$ is represented by the following plot. Our question is how to find the \"slope\" $x$.\n",
        "\n",
        "A popular approach for this problem is to solve the following problem, called [Ordinary Least Square (OLS)][2] problem,\n",
        "$$\\min_{x\\in \\mathbb R, x>0} ||y-xa||_2^2$$\n",
        "\n",
        "[2]: https://en.wikipedia.org/wiki/Ordinary_least_squares\n",
        "\n",
        "**Application.** OLS problem is one of the main problem in statistics."
      ]
    },
    {
      "cell_type": "code",
      "metadata": {
        "id": "8b7JMdfaZoc8"
      },
      "source": [
        "import numpy as np \n",
        "import matplotlib.pyplot as plt \n",
        "import seaborn as sns \n",
        "sns.set_theme()\n",
        "from math import pi"
      ],
      "execution_count": null,
      "outputs": []
    },
    {
      "cell_type": "code",
      "metadata": {
        "colab": {
          "base_uri": "https://localhost:8080/",
          "height": 301
        },
        "id": "aEjvG59_aP8p",
        "outputId": "808c03d3-9ac6-4abe-80a7-69c44608ca8c"
      },
      "source": [
        "a = np.linspace(0., 1., 20) \n",
        "noise = 0.2*(np.random.rand(20)-0.5)\n",
        "y = 2*a+noise\n",
        "plt.scatter(a, y)\n",
        "plt.title(\"correlation between a and y\")\n",
        "plt.xlabel(\"a\")\n",
        "plt.ylabel(\"y\")\n",
        "plt.show()"
      ],
      "execution_count": null,
      "outputs": [
        {
          "output_type": "display_data",
          "data": {
            "image/png": "[encoded data removed]",
            "text/plain": [
              "<Figure size 432x288 with 1 Axes>"
            ]
          },
          "metadata": {
            "needs_background": "light"
          }
        }
      ]
    },
    {
      "cell_type": "markdown",
      "metadata": {
        "id": "uNFPTUWednOG"
      },
      "source": [
        "#### Example 2. Fourier series"
      ]
    },
    {
      "cell_type": "markdown",
      "metadata": {
        "id": "zSEyVMEvhy_a"
      },
      "source": [
        "**Model.** Let $a_k\\in \\mathbb R^m$ the $m$-discretize of function $\\sin(k2\\pi. t)$ for $t\\in [0, 1]$. Now, assume that \n",
        "$$y = a_2+a_3 +\\varepsilon$$\n",
        "\n",
        "The following plot displays the graphs of $y, a_2$ and $a_3$ wrt $m=100$.\n",
        "\n",
        "Notice that the problem of decomposing $y$ into sine functions is indeed the Fourier expansion if $\\varepsilon=0$.\n",
        "\n",
        "For $\\varepsilon\\neq 0$, the Fourier expansion is unapplicable.\n",
        "\n",
        "**Application.** This problem is one of the main problem in Signal processing."
      ]
    },
    {
      "cell_type": "code",
      "metadata": {
        "colab": {
          "base_uri": "https://localhost:8080/",
          "height": 285
        },
        "id": "s0AhJfm6Z7gS",
        "outputId": "a90dbaf6-6586-4cff-b88d-44eb7ffa6169"
      },
      "source": [
        "m=100\n",
        "t = np.linspace(0., 1., m)\n",
        "noise = 0.3*(np.random.rand(m)-0.5)\n",
        "a2 = np.sin(t*2*pi*2)\n",
        "a3 = np.sin(t*2*pi*3)\n",
        "y = a2 + a3 + noise\n",
        "plt.plot(t, y, label=\"y\")\n",
        "plt.plot(t, a2, label=\"a2\")\n",
        "plt.plot(t, a3, label=\"a3\")\n",
        "plt.legend()\n",
        "plt.xlabel(\"Frequency (of sound)\")\n",
        "plt.ylabel(\"Amplitude (of sound)\")\n",
        "plt.show()"
      ],
      "execution_count": null,
      "outputs": [
        {
          "output_type": "display_data",
          "data": {
            "image/png": "[encoded data removed]",
            "text/plain": [
              "<Figure size 432x288 with 1 Axes>"
            ]
          },
          "metadata": {
            "needs_background": "light"
          }
        }
      ]
    },
    {
      "cell_type": "markdown",
      "metadata": {
        "id": "Y_rrufrJmBS7"
      },
      "source": [
        "## Lasso and other solution approachs"
      ]
    },
    {
      "cell_type": "markdown",
      "metadata": {
        "id": "g2Df4wvHmGHs"
      },
      "source": [
        "**Solution approach 1 (naive):** is to consider the [Multiple Linear Regression (MLR)][3] problem,\n",
        "$$\\min_{ x\\in \\mathbb R^m} ||y-\\sum_{i=1}^n x_ia_i||_2^2$$\n",
        "\n",
        "However, in pratice this problem is uasually [ill-pose][4], i.e., its optimal solution can be\n",
        "- not unique\n",
        "- unstable wrt noise\n",
        "\n",
        "To avoid the ill-poseness of MLR, we may use [Tikhonov regularizations][5] using $\\ell_0, \\ell_2 and \\ell_1$.\n",
        "\n",
        "\n",
        "**$\\ell_0$ regularization (extremely difficult):** is to consider $\\ell_0$ penalization\n",
        "$$\\min_{ x\\in \\mathbb R^m} ||y-\\sum_{i=1}^n x_ia_i||_2^2 + \\lambda ||x||_0$$\n",
        "where $\\lambda>0$ and $||x||_0$ counting the non-zero entries, a.k.a Hamming distance. This problem is extremely diffcult since it is non-convex and even NP-hard. \n",
        "\n",
        "**Ridge: $\\ell_2$ regularization (quite good):** is to consider $\\ell_2$ penalization\n",
        "$$\\min_{ x\\in \\mathbb R^m} ||y-\\sum_{i=1}^n x_ia_i||_2^2 + \\lambda ||x||_2$$\n",
        "This problem is convex and have an explicit solution. However, in practice most of components of $x$ are non-zero while we wish most of them equal to $0$.\n",
        "\n",
        "**Lasso: $\\ell_1$ regularization (good):** is to consider $\\ell_1$ penalization\n",
        "$$\\min_{ x\\in \\mathbb R^m} ||y-\\sum_{i=1}^n x_ia_i||_2^2 + \\lambda ||x||_1$$\n",
        "Although this problem is non-smooth but convex, thus has many solving methods.\n",
        "\n",
        "**Note.** If $m$ or $n$ is fixed, then Lasso can be solve in polynomial time. However, it is not to known to be NP-hard or not in general.\n",
        "\n",
        "\n",
        "\n",
        "\n",
        "\n",
        "[3]: https://en.wikipedia.org/wiki/Linear_regression#*Simple_and_multiple_linear_regression*\n",
        "[4]: https://en.wikipedia.org/wiki/Well-posed_problem\n",
        "[5]: https://en.wikipedia.org/wiki/Tikhonov_regularization"
      ]
    },
    {
      "cell_type": "markdown",
      "metadata": {
        "id": "itZKxcddt68N"
      },
      "source": [
        "### Advantages of Lasso\n"
      ]
    },
    {
      "cell_type": "markdown",
      "metadata": {
        "id": "hDzJuJ4OuHQu"
      },
      "source": [
        "The $\\ell_1$ induces the spasity, thus perform both the feature selection and spasity.\n",
        "\n",
        "\n",
        "![Lasso and Ridge](https://scientistcafe.com/ids/images/LassoRidge.png)"
      ]
    },
    {
      "cell_type": "markdown",
      "metadata": {
        "id": "4fDUQGbqux9P"
      },
      "source": [
        "**Dual problem of Lasso.**\n",
        "$$\\max_{u\\in D} \\frac{1}{2}||y||_2^2-\\frac{1}{2}||y-u||_2^2$$\n",
        "\n",
        "where $D=\\{ u\\in \\mathbb R^m: u^Ta_i\\leq \\lambda, \\forall i=1,...,n\\}$. Hence the dual problem of Lasso is actually the projection of $y$ onto convex set $D$, thus has a unique dual solution, say $u^*$.\n",
        "\n",
        "**Optimality condition.** $x^*\\in \\mathbb R^n$ is an optimal solution (not unique) of Lasso iff there exists $\\hat u\\in \\mathbb R^m$ such that\n",
        "$$\\begin{cases}\n",
        "(\\hat u)^Ta_i=\\lambda, \\text{ if } x^*_i>0,\\\\\n",
        "(\\hat u)^Ta_i<\\lambda, \\text{ if } x^*_i=0.\n",
        "\\end{cases}\n",
        "$$\n",
        "Moreover, $\\hat u$ is the dual optimal solution."
      ]
    },
    {
      "cell_type": "markdown",
      "metadata": {
        "id": "ghurEd6Cw63N"
      },
      "source": [
        "## ISTA - a fast solving method for Lasso"
      ]
    },
    {
      "cell_type": "markdown",
      "metadata": {
        "id": "UBb7YpcwxErH"
      },
      "source": [
        "The idea of solving Lasso contains two main steps"
      ]
    },
    {
      "cell_type": "markdown",
      "metadata": {
        "id": "AuIZrgwoxN-F"
      },
      "source": [
        "**Proximal Gradient descent method**\n",
        "\n",
        "Assume that we want to minimize a convex function $f$ and we start at position $x^{(k)}$. Now if we may contruct another convex function $g$ depending on $x^{(k)}$ such that\n",
        "- $g(x^{(k)})=f(x^{(k)})$\n",
        "- $g(x)\\geq f(x)$ for all $x$\n",
        "\n",
        "Now, if we choose\n",
        "$$x^{(k+1)}=\\arg\\min_{x} g(x)$$\n",
        "then we have \n",
        "$$f(x^{(k)})=g(x^{(k)})\\geq g(x^{(k+1)})\\geq f(x^{(k+1)})$$\n",
        "Thus, $\\{x^{(k)}\\}_k$ forms a decreasing sequence and actually converges to the optimal solution.\n",
        "\n",
        "\n",
        "\n",
        "Choose $f(x)=\\frac{1}{2}||y-Ax||_2^2+\\lambda||x||_1$\n",
        "\n",
        "$$\\begin{align}\n",
        "f(x) & =\\frac{1}{2}||y-Ax^{(k)}+(Ax^{(k)}-Ax)||_2^2+\\lambda||x||_1\\\\\n",
        "& =\\frac{1}{2}||y-Ax^{(k)}||_2^2+\\langle y-Ax^{(k)}, A(x^{(k)}-x)\\rangle \n",
        "+ \\frac{1}{2} ||A(x^{(k)}-x)||_2^2+\\lambda||x||_1\\\\\n",
        "& \\leq \\frac{1}{2}||y-Ax^{(k)}||_2^2+\\langle A^T( y-Ax^{(k)}), x^{(k)}-x\\rangle \n",
        "+ \\frac{1}{2} L ||x^{(k)}-x||_2^2+\\lambda||x||_1\\\\\n",
        "& = \\frac{L}{2}||x^{(k)}+\\frac{1}{L}A^T(y-Ax^{(k)})-x||_2^2+\\lambda||x||_1+C\\\\\n",
        "\\end{align}$$\n",
        "where $L$ is the operator norm of $A$ (the largest eigenvalue of $A^TA$).\n",
        "\n",
        "Let $v^{(k)}:=x^{(k)}+\\frac{1}{L}A^T(y-Ax^{(k)})$ the gradient update, then to minimize $f$ we may minimize the function $g$ defined as follows\n",
        "$$g(x)=\\frac{1}{2}||x-v^{(k)}||_2^2+\\frac{\\lambda}{L}||x||_1$$\n",
        "This particular problem is the so-called proximal problem. To minimize $g$, it is sufficient to minimize coordinate-wise, i.e. w.l.o.g we assume that $x$ and $v^{(k)}$ are one-dimensional.\n",
        "\n",
        "The optimal solution for this proximal is \n",
        "$$x^{(k+1)}=\\arg\\min_{x\\geq 0} g(x)= \\max( v^{(k)}-\\frac{\\lambda}{L}, 0)$$\n",
        "\n"
      ]
    },
    {
      "cell_type": "code",
      "metadata": {
        "id": "8pGKDoXqxEAT",
        "colab": {
          "base_uri": "https://localhost:8080/",
          "height": 327
        },
        "outputId": "c45f82dc-33c5-41c1-a214-1e1056771bfa"
      },
      "source": [
        "def ISTA(y, A, lbd, max_iters=100):\n",
        "    x = np.zeros(A.shape[1])\n",
        "    sing, _ = np.linalg.eig(A.T @ A)\n",
        "    L = np.max(np.real(sing))\n",
        "    x_list = [x] \n",
        "\n",
        "    for i in range(max_iters):\n",
        "        v = x + (1./ L) * (A.T @ (y - A @ x))\n",
        "        x = (v - (lbd/L)).clip(min=0)\n",
        "        x_list += [x]\n",
        "\n",
        "    return x, x_list\n",
        "\n",
        "def dic(x, t, w):\n",
        "    diff = x.reshape(-1, 1) - t.reshape(1, -1)\n",
        "    gauss = np.power(2, -diff**2/w**2)\n",
        "    norm = np.sqrt((gauss**2).sum(0))\n",
        "    return gauss/norm\n",
        "\n",
        "def obj_val(y, A, lbd, x):\n",
        "    a = 0.5 * np.linalg.norm(y-A @ x, ord=2)**2\n",
        "    b = lbd * np.linalg.norm(x, ord=1)\n",
        "    return a+b\n",
        "\n",
        "def test():\n",
        "    # 1. setup\n",
        "    m, n = 100, 80\n",
        "    x = np.linspace(0., 1., m)\n",
        "    t = np.linspace(0., 1., n)\n",
        "    w = 0.05 \n",
        "    A = dic(x, t, w) \n",
        "    indexes = [n//3, 2*n//3]\n",
        "    coeffs = np.array([1., 1.])\n",
        "    y = A[:, indexes] @ coeffs\n",
        "    noise = 0.02*(np.random.rand(m)-0.5)\n",
        "    y = y+noise\n",
        "    lbd = 0.1\n",
        "\n",
        "    # 2. ISTA \n",
        "    x_hat, x_list = ISTA(y, A, lbd, max_iters=50) \n",
        "\n",
        "    # 3. compare y and recovered y_hat \n",
        "    y_hat = A @ x_hat\n",
        "    plt.plot(x, y, label=\"y\")\n",
        "    plt.plot(x, y_hat, label=\"y_hat\")\n",
        "    plt.legend()\n",
        "    plt.show()\n",
        "\n",
        "    # 4. the cost value \n",
        "    vals = [obj_val(y, A, lbd, x_) for x_ in x_list]\n",
        "    plt.plot(vals, label=\"objective value vs iterations\")\n",
        "    plt.legend()\n",
        "    plt.show()\n",
        "\n",
        "    # 5. the speed of convergence\n",
        "    opt_val = vals[-1]\n",
        "    plt.plot([val-opt_val for val in vals], label=\"precision vs iterations\")\n",
        "    plt.yscale(\"log\")\n",
        "    plt.legend()\n",
        "    plt.show()\n",
        "\n",
        "\n",
        "test()"
      ],
      "execution_count": 1,
      "outputs": [
        {
          "output_type": "error",
          "ename": "NameError",
          "evalue": "ignored",
          "traceback": [
            "\u001b[0;31m---------------------------------------------------------------------------\u001b[0m",
            "\u001b[0;31mNameError\u001b[0m                                 Traceback (most recent call last)",
            "\u001b[0;32m<ipython-input-1-caec1fc22edb>\u001b[0m in \u001b[0;36m<module>\u001b[0;34m()\u001b[0m\n\u001b[1;32m     61\u001b[0m \u001b[0;34m\u001b[0m\u001b[0m\n\u001b[1;32m     62\u001b[0m \u001b[0;34m\u001b[0m\u001b[0m\n\u001b[0;32m---> 63\u001b[0;31m \u001b[0mtest\u001b[0m\u001b[0;34m(\u001b[0m\u001b[0;34m)\u001b[0m\u001b[0;34m\u001b[0m\u001b[0;34m\u001b[0m\u001b[0m\n\u001b[0m",
            "\u001b[0;32m<ipython-input-1-caec1fc22edb>\u001b[0m in \u001b[0;36mtest\u001b[0;34m()\u001b[0m\n\u001b[1;32m     26\u001b[0m     \u001b[0;31m# 1. setup\u001b[0m\u001b[0;34m\u001b[0m\u001b[0;34m\u001b[0m\u001b[0;34m\u001b[0m\u001b[0m\n\u001b[1;32m     27\u001b[0m     \u001b[0mm\u001b[0m\u001b[0;34m,\u001b[0m \u001b[0mn\u001b[0m \u001b[0;34m=\u001b[0m \u001b[0;36m100\u001b[0m\u001b[0;34m,\u001b[0m \u001b[0;36m80\u001b[0m\u001b[0;34m\u001b[0m\u001b[0;34m\u001b[0m\u001b[0m\n\u001b[0;32m---> 28\u001b[0;31m     \u001b[0mx\u001b[0m \u001b[0;34m=\u001b[0m \u001b[0mnp\u001b[0m\u001b[0;34m.\u001b[0m\u001b[0mlinspace\u001b[0m\u001b[0;34m(\u001b[0m\u001b[0;36m0.\u001b[0m\u001b[0;34m,\u001b[0m \u001b[0;36m1.\u001b[0m\u001b[0;34m,\u001b[0m \u001b[0mm\u001b[0m\u001b[0;34m)\u001b[0m\u001b[0;34m\u001b[0m\u001b[0;34m\u001b[0m\u001b[0m\n\u001b[0m\u001b[1;32m     29\u001b[0m     \u001b[0mt\u001b[0m \u001b[0;34m=\u001b[0m \u001b[0mnp\u001b[0m\u001b[0;34m.\u001b[0m\u001b[0mlinspace\u001b[0m\u001b[0;34m(\u001b[0m\u001b[0;36m0.\u001b[0m\u001b[0;34m,\u001b[0m \u001b[0;36m1.\u001b[0m\u001b[0;34m,\u001b[0m \u001b[0mn\u001b[0m\u001b[0;34m)\u001b[0m\u001b[0;34m\u001b[0m\u001b[0;34m\u001b[0m\u001b[0m\n\u001b[1;32m     30\u001b[0m     \u001b[0mw\u001b[0m \u001b[0;34m=\u001b[0m \u001b[0;36m0.05\u001b[0m\u001b[0;34m\u001b[0m\u001b[0;34m\u001b[0m\u001b[0m\n",
            "\u001b[0;31mNameError\u001b[0m: name 'np' is not defined"
          ]
        }
      ]
    }
  ]
}