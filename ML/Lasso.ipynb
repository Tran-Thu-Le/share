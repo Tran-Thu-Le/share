{
  "nbformat": 4,
  "nbformat_minor": 0,
  "metadata": {
    "colab": {
      "name": "Untitled44.ipynb",
      "provenance": [],
      "collapsed_sections": [
        "UAj4sj19cx0-",
        "uNFPTUWednOG",
        "Y_rrufrJmBS7",
        "itZKxcddt68N"
      ],
      "authorship_tag": "ABX9TyMt8KGpU/MbB9oHHvY3nHMv",
      "include_colab_link": true
    },
    "kernelspec": {
      "name": "python3",
      "display_name": "Python 3"
    },
    "language_info": {
      "name": "python"
    }
  },
  "cells": [
    {
      "cell_type": "markdown",
      "metadata": {
        "id": "view-in-github",
        "colab_type": "text"
      },
      "source": [
        "<a href=\"https://colab.research.google.com/github/Tran-Thu-Le/share/blob/main/ML/Lasso.ipynb\" target=\"_parent\"><img src=\"https://colab.research.google.com/assets/colab-badge.svg\" alt=\"Open In Colab\"/></a>"
      ]
    },
    {
      "cell_type": "markdown",
      "metadata": {
        "id": "Sv32BgSicBmZ"
      },
      "source": [
        "# Seminar: Lasso problem\n",
        "\n",
        "**Speaker:** [Tran Thu Le][1]\n",
        "\n",
        "University of Rennes 1, France\n",
        "\n",
        "Rennes, France, 2021-09-06\n",
        "\n",
        "[1]: https://github.com/Tran-Thu-Le"
      ]
    },
    {
      "cell_type": "markdown",
      "metadata": {
        "id": "LlWgA8wYcuEO"
      },
      "source": [
        "## Problem definition"
      ]
    },
    {
      "cell_type": "markdown",
      "metadata": {
        "id": "UAj4sj19cx0-"
      },
      "source": [
        "### Motivation"
      ]
    },
    {
      "cell_type": "markdown",
      "metadata": {
        "id": "aeAhfBA_acxd"
      },
      "source": [
        "**Model.** We are given an \"observation\" $y\\in \\mathbb R^m$ being a noisy combination of \"atoms\" $a_i\\in \\mathbb R^m$ with positive coefficients $x_i\\in \\mathbb R$ for $i=1,...,n$, i.e.\n",
        "    $$y=x_1a_1 + ... + x_na_n +\\varepsilon,$$\n",
        "    where $\\varepsilon\\in \\mathbb R^m$ represents the noise.\n",
        "\n",
        "**Question.** Assume that $y$ and $a_i$, $i=1,...,n$ were known. The question is how to recover $x_i$, $i=1,..., n$.\n",
        "\n",
        "**Challenge.** The problem is not easy even in the case $\\varepsilon=0_{\\mathbb R^m}$. Indeed, the problem tends to be redundant as soon as $m\\neq n$."
      ]
    },
    {
      "cell_type": "markdown",
      "metadata": {
        "id": "lu45oC3ka0y2"
      },
      "source": [
        "#### Example 1. Ordinary Least Square\n"
      ]
    },
    {
      "cell_type": "markdown",
      "metadata": {
        "id": "V6OBOIreeIY9"
      },
      "source": [
        "\n",
        "Assume that $y=xa+\\varepsilon$ for $y, a, \\varepsilon\\in \\mathbb R^m$ and $x>0$. The relation between $y$ and $a$ is represented by the following plot. Our question is how to find the \"slope\" $x$.\n",
        "\n",
        "A popular approach for this problem is to solve the following problem, called [Ordinary Least Square (OLS)][2] problem,\n",
        "$$\\min_{x\\in \\mathbb R, x>0} ||y-xa||_2^2$$\n",
        "\n",
        "[2]: https://en.wikipedia.org/wiki/Ordinary_least_squares\n",
        "\n",
        "**Application.** OLS problem is one of the main problem in statistics."
      ]
    },
    {
      "cell_type": "code",
      "metadata": {
        "id": "8b7JMdfaZoc8"
      },
      "source": [
        "import numpy as np \n",
        "import matplotlib.pyplot as plt \n",
        "import seaborn as sns \n",
        "sns.set_theme()\n",
        "from math import pi"
      ],
      "execution_count": 4,
      "outputs": []
    },
    {
      "cell_type": "code",
      "metadata": {
        "colab": {
          "base_uri": "https://localhost:8080/",
          "height": 301
        },
        "id": "aEjvG59_aP8p",
        "outputId": "91f2e0e8-aa3a-498e-d4c6-1bd0bb899530"
      },
      "source": [
        "a = np.linspace(0., 1., 20) \n",
        "noise = 0.2*(np.random.rand(20)-0.5)\n",
        "y = 2*a+noise\n",
        "plt.scatter(a, y)\n",
        "plt.title(\"correlation between a and y\")\n",
        "plt.xlabel(\"a\")\n",
        "plt.ylabel(\"y\")\n",
        "plt.show()"
      ],
      "execution_count": 11,
      "outputs": [
        {
          "output_type": "display_data",
          "data": {
            "image/png": "[encoded data removed]",
            "text/plain": [
              "<Figure size 432x288 with 1 Axes>"
            ]
          },
          "metadata": {}
        }
      ]
    },
    {
      "cell_type": "markdown",
      "metadata": {
        "id": "uNFPTUWednOG"
      },
      "source": [
        "#### Example 2. Fourier series"
      ]
    },
    {
      "cell_type": "markdown",
      "metadata": {
        "id": "zSEyVMEvhy_a"
      },
      "source": [
        "**Model.** Let $a_k\\in \\mathbb R^m$ the $m$-discretize of function $\\sin(k2\\pi. t)$ for $t\\in [0, 1]$. Now, assume that \n",
        "$$y = a_2+a_3 +\\varepsilon$$\n",
        "\n",
        "The following plot displays the graphs of $y, a_2$ and $a_3$ wrt $m=100$.\n",
        "\n",
        "Notice that the problem of decomposing $y$ into sine functions is indeed the Fourier expansion if $\\varepsilon=0$.\n",
        "\n",
        "For $\\varepsilon\\neq 0$, the Fourier expansion is unapplicable.\n",
        "\n",
        "**Application.** This problem is one of the main problem in Signal processing."
      ]
    },
    {
      "cell_type": "code",
      "metadata": {
        "colab": {
          "base_uri": "https://localhost:8080/",
          "height": 285
        },
        "id": "s0AhJfm6Z7gS",
        "outputId": "03d09086-a279-4770-870b-2a72536a93c5"
      },
      "source": [
        "m=100\n",
        "t = np.linspace(0., 1., m)\n",
        "noise = 0.3*(np.random.rand(m)-0.5)\n",
        "a2 = np.sin(t*2*pi*2)\n",
        "a3 = np.sin(t*2*pi*3)\n",
        "y = a1 + a2 + noise\n",
        "plt.plot(t, y, label=\"y\")\n",
        "plt.plot(t, a2, label=\"a2\")\n",
        "plt.plot(t, a3, label=\"a3\")\n",
        "plt.legend()\n",
        "plt.xlabel(\"Frequency (of sound)\")\n",
        "plt.ylabel(\"Amplitude (of sound)\")\n",
        "plt.show()"
      ],
      "execution_count": 28,
      "outputs": [
        {
          "output_type": "display_data",
          "data": {
            "image/png": "[encoded data removed]",
            "text/plain": [
              "<Figure size 432x288 with 1 Axes>"
            ]
          },
          "metadata": {}
        }
      ]
    },
    {
      "cell_type": "markdown",
      "metadata": {
        "id": "Y_rrufrJmBS7"
      },
      "source": [
        "### Solution approachs"
      ]
    },
    {
      "cell_type": "markdown",
      "metadata": {
        "id": "g2Df4wvHmGHs"
      },
      "source": [
        "**Solution approach 1 (naive):** is to consider the [Multiple Linear Regression (MLR)][3] problem,\n",
        "$$\\min_{ x\\in \\mathbb R^m} ||y-\\sum_{i=1}^n x_ia_i||_2^2$$\n",
        "\n",
        "However, in pratice this problem is uasually [ill-pose][4], i.e., its optimal solution can be\n",
        "- not unique\n",
        "- unstable wrt noise\n",
        "\n",
        "To avoid the ill-poseness of MLR, we may use [Tikhonov regularizations][5] using $\\ell_0, \\ell_2 and \\ell_1$.\n",
        "\n",
        "\n",
        "**$\\ell_0$ regularization (extremely difficult):** is to consider $\\ell_0$ penalization\n",
        "$$\\min_{ x\\in \\mathbb R^m} ||y-\\sum_{i=1}^n x_ia_i||_2^2 + \\lambda ||x||_0$$\n",
        "where $\\lambda>0$ and $||x||_0$ counting the non-zero entries, a.k.a Hamming distance. This problem is extremely diffcult since it is non-convex and even NP-hard. \n",
        "\n",
        "**Ridge: $\\ell_2$ regularization (quite good):** is to consider $\\ell_2$ penalization\n",
        "$$\\min_{ x\\in \\mathbb R^m} ||y-\\sum_{i=1}^n x_ia_i||_2^2 + \\lambda ||x||_2$$\n",
        "This problem is convex and have an explicit solution. However, in practice most of components of $x$ are non-zero while we wish most of them equal to $0$.\n",
        "\n",
        "**Lasso: $\\ell_1$ regularization (good):** is to consider $\\ell_1$ penalization\n",
        "$$\\min_{ x\\in \\mathbb R^m} ||y-\\sum_{i=1}^n x_ia_i||_2^2 + \\lambda ||x||_1$$\n",
        "Although this problem is non-smooth but convex, thus has many solving methods.\n",
        "\n",
        "**Note.** If $m$ or $n$ is fixed, then Lasso can be solve in polynomial time. However, it is not to known to be NP-hard or not in general.\n",
        "\n",
        "\n",
        "\n",
        "\n",
        "\n",
        "[3]: https://en.wikipedia.org/wiki/Linear_regression#*Simple_and_multiple_linear_regression*\n",
        "[4]: https://en.wikipedia.org/wiki/Well-posed_problem\n",
        "[5]: https://en.wikipedia.org/wiki/Tikhonov_regularization"
      ]
    },
    {
      "cell_type": "markdown",
      "metadata": {
        "id": "itZKxcddt68N"
      },
      "source": [
        "### Advantages of Lasso\n"
      ]
    },
    {
      "cell_type": "markdown",
      "metadata": {
        "id": "hDzJuJ4OuHQu"
      },
      "source": [
        "The $\\ell_1$ induces the spasity, thus perform both the feature selection and spasity.\n",
        "\n",
        "\n",
        "![Lasso and Ridge](https://scientistcafe.com/ids/images/LassoRidge.png)"
      ]
    },
    {
      "cell_type": "markdown",
      "metadata": {
        "id": "4fDUQGbqux9P"
      },
      "source": [
        "**Dual problem of Lasso.**\n",
        "$$\\max_{u\\in D} \\frac{1}{2}||y||_2^2-\\frac{1}{2}||y-u||_2^2$$\n",
        "\n",
        "where $D=\\{ u\\in \\mathbb R^m: u^Ta_i\\leq \\lambda, \\forall i=1,...,n\\}$. Hence the dual problem of Lasso is actually the projection of $y$ onto convex set $D$, thus has a unique dual solution, say $u^*$.\n",
        "\n",
        "**Optimality condition.** $x^*\\in \\mathbb R^n$ is an optimal solution (not unique) of Lasso iff there exists $\\hat u\\in \\mathbb R^m$ such that\n",
        "$$\\begin{cases}\n",
        "(\\hat u)^Ta_i=\\lambda, \\text{ if } x^*_i>0,\\\\\n",
        "(\\hat u)^Ta_i<\\lambda, \\text{ if } x^*_i=0.\n",
        "\\end{cases}\n",
        "$$\n",
        "Moreover, $\\hat u$ is the dual optimal solution."
      ]
    },
    {
      "cell_type": "markdown",
      "metadata": {
        "id": "ghurEd6Cw63N"
      },
      "source": [
        "### ISTA a fast solving method"
      ]
    },
    {
      "cell_type": "markdown",
      "metadata": {
        "id": "UBb7YpcwxErH"
      },
      "source": [
        "The idea of solving Lasso contains two main steps"
      ]
    },
    {
      "cell_type": "markdown",
      "metadata": {
        "id": "AuIZrgwoxN-F"
      },
      "source": [
        "**Upper bound function**\n",
        "\n",
        "$$\\begin{align}\n",
        "||y-Ax||^2&=||y||^2-2\\langle y, Ax\\rangle+||Ax||^2\\\\\n",
        "&\\leq ||y||^2-2\\langle A^Ty, x\\rangle+\\gamma||x||^2\n",
        "\\end{align}$$\n",
        "\n",
        "Thus instead of solving\n",
        "$$\\min_{x\\in \\mathbb R^m}\n",
        "\\frac{1}{2}||y-Ax||_2^2+\\lambda||x||_1$$\n",
        "\n",
        "\n",
        "we may solve\n",
        "$$\n",
        "\\begin{align}\n",
        "& \\min_{x\\in \\mathbb R^m}\n",
        "\\frac{1}{2}||x-\\frac{1}{\\gamma} A^Ty||_2^2+\\lambda ||x||_1 +\\frac{1}{2\\gamma}||y||_2^2-\\frac{1}{2\\gamma^2} ||A^Ty||_2^2\\\\\n",
        "= & \\min_{x\\in \\mathbb R^m}\n",
        "\\frac{1}{2}||x-\\frac{1}{\\gamma} A^Ty||_2^2+\\lambda ||x||_1 \n",
        "\\end{align}$$"
      ]
    },
    {
      "cell_type": "code",
      "metadata": {
        "id": "8pGKDoXqxEAT"
      },
      "source": [
        ""
      ],
      "execution_count": null,
      "outputs": []
    }
  ]
}